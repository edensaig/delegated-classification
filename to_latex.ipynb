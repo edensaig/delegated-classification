{
 "cells": [
  {
   "cell_type": "code",
   "execution_count": 1,
   "id": "c17ddc59-0a3b-4dca-b744-fc7fb787362a",
   "metadata": {},
   "outputs": [
    {
     "name": "stdout",
     "output_type": "stream",
     "text": [
      "\\newcommand{\\BinomialConcaveSurvivalExperimentBeta}{1.89}\n",
      "\\newcommand{\\BinomialConcaveSurvivalExperimentGamma}{0.33}\n",
      "\\newcommand{\\BinomialConcaveSurvivalExperimentInflectionPoint}{2022}\n",
      "\\newcommand{\\BinomialConcaveSurvivalExperimentInflectionPointBound}{3957}\n",
      "\\newcommand{\\BinomialConcaveSurvivalExperimentM}{30}\n",
      "\\newcommand{\\EmpiricalRobustnessExperimentMinCost}{100}\n",
      "\\newcommand{\\EmpiricalRobustnessExperimentQualitativeComparisonM}{25}\n",
      "\\newcommand{\\EmpiricalRobustnessExperimentQualitativeComparisonTargetN}{16384}\n",
      "\\newcommand{\\EmpiricalRobustnessExperimentSelectedM}{10}\n",
      "\\newcommand{\\FullInformationExperimentCrossingNHigh}{23170}\n",
      "\\newcommand{\\FullInformationExperimentCrossingNLow}{362}\n",
      "\\newcommand{\\FullInformationExperimentCrossingPointHigh}{0.94}\n",
      "\\newcommand{\\FullInformationExperimentCrossingPointLow}{0.74}\n",
      "\\newcommand{\\FullInformationExperimentCrossingTwolognHigh}{29}\n",
      "\\newcommand{\\FullInformationExperimentCrossingTwolognLow}{17}\n",
      "\\newcommand{\\FullInformationExperimentDeltaBSelectedM}{20}\n",
      "\\newcommand{\\FullInformationExperimentMTargetAcc}{0.85}\n",
      "\\newcommand{\\FullInformationExperimentMaxM}{48}\n",
      "\\newcommand{\\MinPayExperimentM}{15}\n",
      "\\newcommand{\\MinPayExperimentPHigh}{0.8}\n",
      "\\newcommand{\\MinPayExperimentPLow}{0.5}\n",
      "\\newcommand{\\PartialInformationExperimentDataMultiplierArgmax}{190}\n",
      "\\newcommand{\\PartialInformationExperimentRValues}{[1, 3, 5]}\n",
      "\\newcommand{\\RidgelineExperimentM}{20}\n"
     ]
    }
   ],
   "source": [
    "import os\n",
    "import glob\n",
    "import json\n",
    "\n",
    "jsons = {\n",
    "    os.path.basename(f).split('.')[0]: json.load(open(f,'r'))\n",
    "    for f in glob.glob('./output/*.json')\n",
    "}\n",
    "\n",
    "flat = {f'{k1}_experiment_{k2}': v for k1,d in jsons.items() for k2,v in d.items()}\n",
    "\n",
    "cmd_name = lambda k: ''.join(w.capitalize() for w in k.split('_'))\n",
    "for k,v in sorted(flat.items()):\n",
    "    print(f'\\\\newcommand{{\\\\{cmd_name(k)}}}{{{v}}}')"
   ]
  }
 ],
 "metadata": {
  "kernelspec": {
   "display_name": "Python 3 (ipykernel)",
   "language": "python",
   "name": "python3"
  },
  "language_info": {
   "codemirror_mode": {
    "name": "ipython",
    "version": 3
   },
   "file_extension": ".py",
   "mimetype": "text/x-python",
   "name": "python",
   "nbconvert_exporter": "python",
   "pygments_lexer": "ipython3",
   "version": "3.10.13"
  }
 },
 "nbformat": 4,
 "nbformat_minor": 5
}
